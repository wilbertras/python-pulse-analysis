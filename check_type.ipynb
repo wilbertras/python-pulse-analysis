{
 "cells": [
  {
   "cell_type": "code",
   "execution_count": 3,
   "metadata": {},
   "outputs": [],
   "source": [
    "import numpy as np"
   ]
  },
  {
   "cell_type": "code",
   "execution_count": 179,
   "metadata": {},
   "outputs": [],
   "source": [
    "def check_type(input_value, preferred_types):\n",
    "    \"\"\"\n",
    "    Convert input_value to the preferred data type from the list of preferred_types.\n",
    "    \n",
    "    Parameters:\n",
    "        input_value (any): The input value to be converted.\n",
    "        preferred_types (list): A list of preferred data types. Can include int, float, str, list, tuple, None.\n",
    "        \n",
    "    Returns:\n",
    "        The input_value converted to the preferred data type, or None if conversion fails.\n",
    "    \"\"\"\n",
    "    if isinstance(preferred_types, type):\n",
    "        preferred_types = [preferred_types]\n",
    "    elif preferred_types == None:\n",
    "        return None\n",
    "    if input_value == None:\n",
    "        if any(type is None for type in preferred_types):\n",
    "            return input_value\n",
    "        else:\n",
    "            raise Exception('Cant convert NoneType to preferred types')\n",
    "    elif isinstance(input_value, str):\n",
    "        values = input_value.split()\n",
    "        if len(values) == 0 or input_value == 'None':\n",
    "            return None\n",
    "        elif len(values) == 1:\n",
    "            pass\n",
    "        else: \n",
    "            try:\n",
    "                input_value = [int(value) for value in values]\n",
    "            except:\n",
    "                input_value = [float(value) for value in values]\n",
    "    if any(isinstance(input_value, type) for type in preferred_types):\n",
    "        return input_value\n",
    "    print(input_value)\n",
    "    print(type(input_value))\n",
    "    for data_type in preferred_types:\n",
    "        try:\n",
    "            if data_type == int:\n",
    "                return int(input_value)\n",
    "            elif data_type == float:\n",
    "                return float(input_value)\n",
    "            elif data_type == str:\n",
    "                return str(input_value)\n",
    "            elif data_type == list:\n",
    "                return list(input_value)\n",
    "            elif data_type == tuple:\n",
    "                return tuple(input_value)\n",
    "            elif data_type == np.ndarray:\n",
    "                return np.array(input_value)\n",
    "            elif data_type == None:\n",
    "                return None\n",
    "            else:\n",
    "                raise ValueError(\"Unsupported data type\")\n",
    "        except (ValueError, TypeError):\n",
    "            continue\n",
    "    raise Exception('Could not convert data type')"
   ]
  },
  {
   "cell_type": "code",
   "execution_count": 181,
   "metadata": {},
   "outputs": [
    {
     "name": "stdout",
     "output_type": "stream",
     "text": [
      "[0, 1]\n",
      "<class 'list'>\n"
     ]
    },
    {
     "ename": "Exception",
     "evalue": "Could not convert data type",
     "output_type": "error",
     "traceback": [
      "\u001b[1;31m---------------------------------------------------------------------------\u001b[0m",
      "\u001b[1;31mException\u001b[0m                                 Traceback (most recent call last)",
      "Cell \u001b[1;32mIn[181], line 1\u001b[0m\n\u001b[1;32m----> 1\u001b[0m check_type(\u001b[39m'\u001b[39;49m\u001b[39m0 1\u001b[39;49m\u001b[39m'\u001b[39;49m, (\u001b[39mint\u001b[39;49m, \u001b[39mfloat\u001b[39;49m))\n",
      "Cell \u001b[1;32mIn[179], line 57\u001b[0m, in \u001b[0;36mcheck_type\u001b[1;34m(input_value, preferred_types)\u001b[0m\n\u001b[0;32m     54\u001b[0m     \u001b[39mexcept\u001b[39;00m (\u001b[39mValueError\u001b[39;00m, \u001b[39mTypeError\u001b[39;00m):\n\u001b[0;32m     55\u001b[0m         \u001b[39m# raise Exception('Could not convert data types')\u001b[39;00m\n\u001b[0;32m     56\u001b[0m         \u001b[39mcontinue\u001b[39;00m\n\u001b[1;32m---> 57\u001b[0m \u001b[39mraise\u001b[39;00m \u001b[39mException\u001b[39;00m(\u001b[39m'\u001b[39m\u001b[39mCould not convert data type\u001b[39m\u001b[39m'\u001b[39m)\n",
      "\u001b[1;31mException\u001b[0m: Could not convert data type"
     ]
    }
   ],
   "source": [
    "check_type('0 1', (int, float))"
   ]
  },
  {
   "cell_type": "code",
   "execution_count": 170,
   "metadata": {},
   "outputs": [
    {
     "name": "stdout",
     "output_type": "stream",
     "text": [
      "[0 1]\n"
     ]
    },
    {
     "data": {
      "text/plain": [
       "numpy.ndarray"
      ]
     },
     "execution_count": 170,
     "metadata": {},
     "output_type": "execute_result"
    }
   ],
   "source": [
    "c = np.ndarray\n",
    "if c == np.ndarray:\n",
    "    a = [0, 1]\n",
    "    b = np.array(a)\n",
    "    print(b)\n",
    "type(b)\n"
   ]
  },
  {
   "cell_type": "code",
   "execution_count": 171,
   "metadata": {},
   "outputs": [
    {
     "data": {
      "text/plain": [
       "0"
      ]
     },
     "execution_count": 171,
     "metadata": {},
     "output_type": "execute_result"
    }
   ],
   "source": [
    "len(''.split())"
   ]
  },
  {
   "cell_type": "code",
   "execution_count": 172,
   "metadata": {},
   "outputs": [
    {
     "data": {
      "text/plain": [
       "True"
      ]
     },
     "execution_count": 172,
     "metadata": {},
     "output_type": "execute_result"
    }
   ],
   "source": [
    "c == np.ndarray"
   ]
  },
  {
   "cell_type": "code",
   "execution_count": null,
   "metadata": {},
   "outputs": [],
   "source": []
  }
 ],
 "metadata": {
  "kernelspec": {
   "display_name": ".venv",
   "language": "python",
   "name": "python3"
  },
  "language_info": {
   "codemirror_mode": {
    "name": "ipython",
    "version": 3
   },
   "file_extension": ".py",
   "mimetype": "text/x-python",
   "name": "python",
   "nbconvert_exporter": "python",
   "pygments_lexer": "ipython3",
   "version": "3.9.13"
  },
  "orig_nbformat": 4,
  "vscode": {
   "interpreter": {
    "hash": "e15e85cfa26b8ef4e72c716f65d9c7046cd0ff08847cae9fbb158c6a2f8d5acb"
   }
  }
 },
 "nbformat": 4,
 "nbformat_minor": 2
}
