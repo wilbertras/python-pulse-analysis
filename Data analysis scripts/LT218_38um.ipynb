{
 "cells": [
  {
   "attachments": {},
   "cell_type": "markdown",
   "metadata": {},
   "source": [
    "# LT218, 3800 nm"
   ]
  },
  {
   "cell_type": "code",
   "execution_count": null,
   "metadata": {},
   "outputs": [],
   "source": [
    "import sys\n",
    "sys.path.append('../')\n",
    "from classes import MKID\n",
    "import functions as f\n",
    "\n",
    "%matplotlib widget"
   ]
  },
  {
   "attachments": {},
   "cell_type": "markdown",
   "metadata": {},
   "source": [
    "## KID 8"
   ]
  },
  {
   "cell_type": "code",
   "execution_count": null,
   "metadata": {},
   "outputs": [],
   "source": []
  },
  {
   "cell_type": "code",
   "execution_count": null,
   "metadata": {},
   "outputs": [],
   "source": []
  },
  {
   "cell_type": "code",
   "execution_count": null,
   "metadata": {},
   "outputs": [],
   "source": []
  },
  {
   "cell_type": "code",
   "execution_count": null,
   "metadata": {},
   "outputs": [],
   "source": []
  },
  {
   "attachments": {},
   "cell_type": "markdown",
   "metadata": {},
   "source": [
    "## KID 10"
   ]
  },
  {
   "attachments": {},
   "cell_type": "markdown",
   "metadata": {},
   "source": [
    "## KID21"
   ]
  },
  {
   "cell_type": "code",
   "execution_count": null,
   "metadata": {},
   "outputs": [],
   "source": [
    "light_dir = \"D:\\Data\\LT218Chip1_BF_20221103_MIR3_8\\12KIDs mono on 3800 long\\TD_Power\" \n",
    "dark_dir = \"D:\\Data\\LT218Chip1_BF_20221103_MIR3_8\\12KIDs mono off\\TD_Power\" \n",
    "LT = 218\n",
    "wavelength = 3800\n",
    "kid_nr = 21\n",
    "pread = 103\n",
    "comment = '20221103_long'\n",
    "chuncksize = 40\n",
    "LT218_KID21_P103 = MKID(LT, wavelength, light_dir, dark_dir, kid_nr, pread, comment, chuncksize)"
   ]
  },
  {
   "cell_type": "code",
   "execution_count": null,
   "metadata": {},
   "outputs": [],
   "source": [
    "mkid = LT218_KID21_P103      # choose the object you want to analyze\n",
    "psc = 0.05\n",
    "nsc = 0.05\n",
    "settings = {'sf':1e6,'coord':'smith','response':'X','pw':256,'sw':30,'window':'box','ssf':1,'buffer':0.25,'mph':psc,'mpp':psc,'noise_mph':nsc,'noise_mpp':nsc,\n",
    "            'nr_noise_segments':100,'binsize':0.02,'H_range':0.12,'fit_T':[50, 150],'max_bw':10000,'tlim':[0, 1],'filter_std':5,'rise_offset':0.1} "
   ]
  },
  {
   "cell_type": "code",
   "execution_count": null,
   "metadata": {},
   "outputs": [],
   "source": [
    "# the mkid.initiate attribute is for quickly checking how the pulse selection and alignment is going. It will only analyze one chunck of binfiles that was set by the initiation of the object.\n",
    "mkid.initiate(settings,f,binsize=0.1,dpulse=None,plot_pulse=5, below=.1)"
   ]
  },
  {
   "cell_type": "code",
   "execution_count": null,
   "metadata": {},
   "outputs": [],
   "source": [
    "# the mkid.overview attribute does the full pulse analysis and provides an overview plot of all the relevant parameters\n",
    "mkid.overview(settings, f, redo_peak_model=True, save=False, figpath='../Results/')"
   ]
  },
  {
   "attachments": {},
   "cell_type": "markdown",
   "metadata": {},
   "source": [
    "## KID24"
   ]
  }
 ],
 "metadata": {
  "kernelspec": {
   "display_name": ".venv",
   "language": "python",
   "name": "python3"
  },
  "language_info": {
   "codemirror_mode": {
    "name": "ipython",
    "version": 3
   },
   "file_extension": ".py",
   "mimetype": "text/x-python",
   "name": "python",
   "nbconvert_exporter": "python",
   "pygments_lexer": "ipython3",
   "version": "3.9.13"
  },
  "orig_nbformat": 4,
  "vscode": {
   "interpreter": {
    "hash": "f8baa45e70dad6bfc67528a2288446aa4c9b1e7af9b2a77e08f5c15b6faa7815"
   }
  }
 },
 "nbformat": 4,
 "nbformat_minor": 2
}
