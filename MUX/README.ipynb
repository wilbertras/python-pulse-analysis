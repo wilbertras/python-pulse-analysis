{
 "cells": [
  {
   "attachments": {},
   "cell_type": "markdown",
   "metadata": {},
   "source": [
    "# Optimal filter tutorial\n",
    "This script demonstrates how the optimal filtering is typically done. Using a preloaded set pulses and noise data. "
   ]
  },
  {
   "attachments": {},
   "cell_type": "markdown",
   "metadata": {},
   "source": [
    "We first load the .py file with the relevant functions:"
   ]
  },
  {
   "cell_type": "code",
   "execution_count": 1,
   "metadata": {},
   "outputs": [],
   "source": [
    "from optimal_filter import *\n",
    "import numpy as np"
   ]
  },
  {
   "attachments": {},
   "cell_type": "markdown",
   "metadata": {},
   "source": [
    "Then, we load the two data inputs: a stack of pulses and a noise timestream"
   ]
  },
  {
   "cell_type": "code",
   "execution_count": 2,
   "metadata": {},
   "outputs": [],
   "source": [
    "pulses = np.load('pulses.npy')    # MxN array of M pulses of length N\n",
    "noise = np.load('noise.npy')      # 3 sec of timestream noise data taken at 1 Msample/sec"
   ]
  },
  {
   "cell_type": "code",
   "execution_count": 4,
   "metadata": {},
   "outputs": [],
   "source": [
    "np.save('noise.npy', noise[:int(1e6)])"
   ]
  },
  {
   "attachments": {},
   "cell_type": "markdown",
   "metadata": {},
   "source": [
    "We then initialize some parameters"
   ]
  },
  {
   "cell_type": "code",
   "execution_count": null,
   "metadata": {},
   "outputs": [],
   "source": [
    "pw = 160                # pulse window length\n",
    "len_onesided = round(pw / 2) + 1\n",
    "sf = 1e6                # sampling frequency of data\n",
    "exclude_dc = True       # whether or not to exlude the DC value of the pulse and noise models in the optimal filter\n",
    "nr_req_segments = 1000  # how many noise segments we want to average for our noise model. It may be that less are returned than desired.\n",
    "threshold = None        # threshold for pulse detection in the the noise data "
   ]
  },
  {
   "attachments": {},
   "cell_type": "markdown",
   "metadata": {},
   "source": [
    "We then compute our pulse and noise models, as well as a normalisation constant"
   ]
  },
  {
   "cell_type": "code",
   "execution_count": null,
   "metadata": {},
   "outputs": [],
   "source": [
    "norm_pulse_fft = pulse_model(pulses, pw)\n",
    "noise_psd, freqs = noise_model(noise, pw, sf, threshold=None, nr_req_segments=1000)\n",
    "norm_factor = prefactor(norm_pulse_fft, noise_psd)"
   ]
  },
  {
   "attachments": {},
   "cell_type": "markdown",
   "metadata": {},
   "source": [
    "Now we compute the optimal pulse height for a given pulse. This is done in a for loop for all the pulses that were loaded before. A known array of pulses can be analysed without a for loop, but this illustrates how the mux setup would instantaneously analyse a single pulse."
   ]
  },
  {
   "cell_type": "code",
   "execution_count": null,
   "metadata": {},
   "outputs": [],
   "source": [
    "H = []\n",
    "for pulse in pulses:\n",
    "    H.append(mux_filter(pulse, len_onesided, norm_pulse_fft, noise_psd, norm_factor))"
   ]
  },
  {
   "attachments": {},
   "cell_type": "markdown",
   "metadata": {},
   "source": [
    "Now, we plot some relevant figures:"
   ]
  },
  {
   "cell_type": "code",
   "execution_count": null,
   "metadata": {},
   "outputs": [],
   "source": [
    "import matplotlib.pyplot as plt\n",
    "fig, axes = plt.subplot_mosaic('abcd', figsize=(12, 3), constrained_layout=True)\n",
    "ax = axes['a']\n",
    "ax.plot(pulses[::10].T, lw=.1)\n",
    "ax.set_xlabel('time [$\\mu s$]')\n",
    "ax.set_ylabel('response')\n",
    "ax.set_title('Selection of pulses')\n",
    "\n",
    "ax = axes['b']\n",
    "mean_pulse = np.mean(pulses, axis=0)\n",
    "norm_mean_pulse = mean_pulse / np.amax(mean_pulse)\n",
    "ax.plot(norm_mean_pulse)\n",
    "ax.set_xlabel('time [$\\mu s$]')\n",
    "ax.set_ylabel('response')\n",
    "ax.set_title('Normalised mean pulse')\n",
    "\n",
    "ax = axes['c']\n",
    "norm_pulse_psd = 1 / (pw * sf) * np.absolute(norm_pulse_fft)**2\n",
    "norm_pulse_psd[1:-1] *= 2\n",
    "_ = ax.semilogx(freqs[1:], 10*np.log10(norm_pulse_psd[1:]), label='pulse model')\n",
    "_ = ax.semilogx(freqs[1:], 10*np.log10(noise_psd[1:]), label='noise model')\n",
    "ax.set_xlabel('frequency [Hz]')\n",
    "ax.set_ylabel('PSD [dBc/Hz]')\n",
    "ax.set_title('Optimal filter')\n",
    "ax.legend()\n",
    "\n",
    "ax = axes['d']\n",
    "_ = ax.hist(H, bins=100)\n",
    "ax.set_xlabel('response')\n",
    "ax.set_ylabel('counts')\n",
    "_ = ax.set_title('PDF pulse heights')"
   ]
  },
  {
   "attachments": {},
   "cell_type": "markdown",
   "metadata": {},
   "source": [
    "We can now also plot an original pulse and the optimal filter model together:"
   ]
  },
  {
   "cell_type": "code",
   "execution_count": null,
   "metadata": {},
   "outputs": [],
   "source": [
    "idx = 101                # choose a pulse\n",
    "fig, ax = plt.subplots()\n",
    "ax.plot(pulses[idx, :], label='raw pulse')\n",
    "ax.plot(norm_mean_pulse*H[idx], label='H x norm_pulse_model')\n",
    "ax.set_xlabel('time [$\\mu s$]')\n",
    "ax.set_ylabel('response')\n",
    "ax.set_title('Normalised mean pulse')\n",
    "ax.legend()"
   ]
  },
  {
   "cell_type": "code",
   "execution_count": null,
   "metadata": {},
   "outputs": [],
   "source": []
  }
 ],
 "metadata": {
  "kernelspec": {
   "display_name": ".venv",
   "language": "python",
   "name": "python3"
  },
  "language_info": {
   "codemirror_mode": {
    "name": "ipython",
    "version": 3
   },
   "file_extension": ".py",
   "mimetype": "text/x-python",
   "name": "python",
   "nbconvert_exporter": "python",
   "pygments_lexer": "ipython3",
   "version": "3.9.13"
  },
  "orig_nbformat": 4,
  "vscode": {
   "interpreter": {
    "hash": "f8baa45e70dad6bfc67528a2288446aa4c9b1e7af9b2a77e08f5c15b6faa7815"
   }
  }
 },
 "nbformat": 4,
 "nbformat_minor": 2
}
