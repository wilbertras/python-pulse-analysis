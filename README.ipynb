{
 "cells": [
  {
   "attachments": {},
   "cell_type": "markdown",
   "metadata": {},
   "source": [
    "# README \n",
    "This notebook illustrates how the code works on top level"
   ]
  },
  {
   "attachments": {},
   "cell_type": "markdown",
   "metadata": {},
   "source": [
    "First, install the necessary modules\n",
    "Run the following command in your terminal:\n",
    "\n",
    "```\n",
    "pip install -r requirements.txt\n",
    "```"
   ]
  },
  {
   "attachments": {},
   "cell_type": "markdown",
   "metadata": {},
   "source": [
    "Now import the necessary modules for this notebook"
   ]
  },
  {
   "cell_type": "code",
   "execution_count": null,
   "metadata": {},
   "outputs": [],
   "source": [
    "from classes import MKID\n",
    "import functions as f\n",
    "import matplotlib.pyplot as plt\n",
    "import numpy as np\n",
    "\n",
    "%matplotlib widget"
   ]
  },
  {
   "attachments": {},
   "cell_type": "markdown",
   "metadata": {},
   "source": [
    "# Example 1: $\\beta$-Ta KID"
   ]
  },
  {
   "attachments": {},
   "cell_type": "markdown",
   "metadata": {},
   "source": [
    "Initiate the MKID object"
   ]
  },
  {
   "cell_type": "code",
   "execution_count": null,
   "metadata": {},
   "outputs": [],
   "source": [
    "light_dir = \"./README Example Data/LT192Chip1_BF_20220235/1KIDs laser on 1545 50nW 46dB/TD_Power\"  # directory for the pulsedata\n",
    "dark_dir = './README Example Data/LT192Chip1_BF_20220235/1KIDs laser off/TD_Power'  # directory for the noise data\n",
    "LT = 192                # LT number of the chip. This is just for saving purposes\n",
    "wavelength = 1545       # wavelenght of the laser. This is just for saving purposes\n",
    "kid_nr = 1              # KID number\n",
    "pread = 102             # readout power of the KID\n",
    "comment = '20220235'    # the date of the experiment or any other comment you want to add for saving the figures\n",
    "chuncksize = 20        # the number of binfiles that the code will analyse at once. The script will concatenate these files and analyze them at once istead of analyzing every file on its own\n",
    "file_path = None        # instead of the above parameters you can also load a perviously analyzed kid data file by inputting the filepath here. An example is further down in this notebook\n",
    "discard_saturated = True # when the phase response saturates or glitches a warning is given indicating which files contain this repsonse. These files are excluded unless the option here is set to False.   \n",
    "LT192_KID1_P102 = MKID(LT, wavelength, light_dir, dark_dir, kid_nr, pread, comment, chuncksize, file_path=None, discard_saturated=True)"
   ]
  },
  {
   "attachments": {},
   "cell_type": "markdown",
   "metadata": {},
   "source": [
    "Set the pules analysis settings "
   ]
  },
  {
   "cell_type": "code",
   "execution_count": null,
   "metadata": {},
   "outputs": [],
   "source": [
    "mkid = LT192_KID1_P102      # choose the object you want to analyze\n",
    "settings = {                # Choose the best settings for the pulse analysis:\n",
    "    'sf':1e6,                   # sample frequency of the data. It is 1e6 Hz normally, except for the TDmed files where it is 5e4 Hz.\n",
    "    'coord':'smith',            # coordinates system: 'circle' or 'smith'\n",
    "    'response':'phase',             # response type: 'amp' or 'phase' when in 'circle' coordinates, 'R' or 'X' when in 'smith' coordinates\n",
    "    'pw':250,                   # pulsewindow: length of the pulse. The rise_offset+pw make up the length of the total window. Typically taken to be at least four times the lifetime of the pulse.\n",
    "    'sw':0,                     # smoothingwindow, the windowsize used for smoothing the data. Usually set equal to half the quasiparticle lifetime in Al KIDs, but for bTa KIDs this should be much shorter as the initial pulse decay is much faster.\n",
    "    'window':'box',             # window type for smoothing the data. Option 1: 'box', a simple boxcar moving average with a width of half the lifetime, i.e. sw. Option 2: 'exp', giving a non-symmetric exponential epx(-t/tau)\n",
    "    'align':'peak',             # choose one of two methods to align peaks. 'peak' aligns the pulses on the index of the detected smoothed peaks, 'edge' aligns the peaks at the rising edge at half the peak. This latter method requires supersampling if risetimes are very short.\n",
    "    'ssf':1,                    # supersample factor, only applies to the 'edge' alignment method. This will increase the number of point in the data such that the rising edge can be found more accurately\n",
    "    'sstype':'fourier',          # type of supersampling. Options are 'interp' where the signal is simply interpolated, or 'fourier' which uses a Fourier method to add more data points without adding higher frequency components.\n",
    "    'buffer':10,              # the buffer is added at both sides of the pulsewindpow when cutting a pulse from the data. A buffer is needed because some extra room is required to align after they have been cut from the data\n",
    "    'mph':5,                 # minimal pulse height, together with 'mpp' these are the two criteria that are used to select the pulses. If set to None, 'mph' and 'mpp' will be 5x the standard deviation of the dark signal. For more https://docs.scipy.org/doc/scipy/reference/generated/scipy.signal.find_peaks.html \n",
    "    'mpp':None,                 # minimal pulse prominence, see https://docs.scipy.org/doc/scipy/reference/generated/scipy.signal.find_peaks.html. Generally, I found it best to keep the 'mph' and 'mpp' equal.\n",
    "    'nr_noise_segments':1000,    # number of noise segment to be used for the noise model\n",
    "    'binsize':0.03,             # the binsize for the pulseheight histogram. The binsize might be slightly adjusted in order to let 'H_range' exactly coincide with a binedge.\n",
    "    'H_range':None,             # range of pulseheights to consider for the optimal filter. If a float, all pulses larger than 'H_range' are used, if (a, b) or [a, b] the range a<=x<b is used, if None, all pulses are used. \n",
    "    'fit_T':[75, 125],           # the pulse fitting range given in time for finding the decay time\n",
    "    'max_bw':10000,            # maximum bandwidth: the number of points used for the noise spectrum. The noise spectrum has a larger bandwidth than noise model as the noise model uses segments as long as the pulsewindow.\n",
    "    'tlim':[0, 1],              # the time limits for the timestream response plots\n",
    "    'filter_std':5,             # the number of standard deviations used for filtering the pulses. Pulses are filtered that are outside this number of stds at any point along their pulsewindow\n",
    "    'rise_offset':50,            # offset of the rising edge of the pulse given in number of point \n",
    "    'noise_thres':4\n",
    "    } "
   ]
  },
  {
   "cell_type": "code",
   "execution_count": null,
   "metadata": {},
   "outputs": [],
   "source": [
    "mkid.pks_vs_sigmas(settings, f, [3, 4, 5, 6, 200], binsize=.2)"
   ]
  },
  {
   "cell_type": "code",
   "execution_count": null,
   "metadata": {},
   "outputs": [],
   "source": [
    "# the mkid.overview attribute does the full pulse analysis and provides an overview plot of all the relevant parameters\n",
    "mkid.overview(\n",
    "    settings,                       # input the pulse analysis settings                              \n",
    "    f,                              # provide the required file with all the functions\n",
    "    max_chuncks=1,                # set a maximum number of chuncks to be analyzed (used for quick debugging)\n",
    "    redo_peak_model=True,          # if you don't want to redo the pulse analysis but do want to renew the plot set this setting to False\n",
    "    iterate=False,\n",
    "    plot_pulses=False,                # if set to True, the first ten puslses will be plotted individually, with the offset, rising edge, peak indicated. \n",
    "    save=False,                     # if you want to save the figure and data, set it to True. It will create 4 files, a text file with the settings, a pickle file with the pulse data and a png and svg of file of the figure \n",
    "    figpath='./README Results/'            # provide the directory to which the figure will be saved\n",
    "    )"
   ]
  },
  {
   "attachments": {},
   "cell_type": "markdown",
   "metadata": {},
   "source": [
    "# Example 2: Aluminium KID"
   ]
  },
  {
   "cell_type": "code",
   "execution_count": null,
   "metadata": {},
   "outputs": [],
   "source": [
    "light_dir = \"./README Example Data/LT218Chip1_BF_20240116_MIR18_5/12KIDS_185um_BB200K/TD_Power\"\n",
    "dark_dir = \"./README Example Data/LT218Chip1_BF_20240116_MIR18_5/12KIDS_185um_BBoff/TD_Power\"\n",
    "comment = '20240116_200K'\n",
    "wavelength = 18500\n",
    "# light_dir = \"D:/Data/LT218Chip1_BF_20240116_MIR18_5/12KIDs_185um_BB160K/TD_Power\"\n",
    "# dark_dir = \"D:/Data/LT218Chip1_BF_20240116_MIR18_5/12KIDs_185um_BBoff/TD_Power\"\n",
    "# comment = '20240116_160K'\n",
    "# wavelength = 18500\n",
    "# light_dir = \"D:/Data/LT218Chip1_BF_20221025_MIR8_5/12KIDs mono off/TD_Power\"\n",
    "# dark_dir = \"D:/Data/LT218Chip1_BF_20221025_MIR8_5/12KIDs mono off/TD_Power\"\n",
    "# comment = '20240116_160K'\n",
    "# wavelength = 18500\n",
    "LT = 218\n",
    "kid_nr = 5\n",
    "pread = 113\n",
    "chuncksize = 40\n",
    "mkid = MKID(LT, wavelength, light_dir, dark_dir, kid_nr, pread, comment, chuncksize)"
   ]
  },
  {
   "cell_type": "code",
   "execution_count": null,
   "metadata": {},
   "outputs": [],
   "source": [
    "psc = None\n",
    "settings = {'sf':1e6,'coord':'smith','response':'phase','pw':1000,'sw':264, 'align':'peak', 'window':'exp', 'ssf':1, 'sstype':'interp','buffer':10,'mph':psc,'mpp':psc,\n",
    "            'nr_noise_segments':1000,'binsize':0.01,'H_range':None,'fit_T':[200, 500],'max_bw':10000,'tlim':[0, 1],'filter_std':5,'rise_offset':50, 'noise_thres':5} \n",
    "# mkid.overview(settings, f, max_chuncks=1, redo_peak_model=True, iterate=True, plot_pulses=False, save=False, figpath='./README Results/')"
   ]
  },
  {
   "cell_type": "code",
   "execution_count": null,
   "metadata": {},
   "outputs": [],
   "source": [
    "mkid.pks_vs_sigmas(settings, f, [3, 4, 5, 10], binsize=.25)"
   ]
  },
  {
   "attachments": {},
   "cell_type": "markdown",
   "metadata": {},
   "source": [
    "# Post processing: Loading a MKID object from saved data"
   ]
  },
  {
   "cell_type": "code",
   "execution_count": null,
   "metadata": {},
   "outputs": [],
   "source": [
    "file_path = './README Results/LT192_1545nm_KID1_P102_20220235_data.txt'\n",
    "bTa_kid = MKID(file_path=file_path)\n",
    "file_path = './README Results/LT218_18500nm_KID5_P113_20240116_200K_data.txt'\n",
    "Al_kid = MKID(file_path=file_path)"
   ]
  },
  {
   "attachments": {},
   "cell_type": "markdown",
   "metadata": {},
   "source": [
    "Now you can plot the overview plot again with the plot_overview() attribute of the MKID object"
   ]
  },
  {
   "cell_type": "code",
   "execution_count": null,
   "metadata": {},
   "outputs": [],
   "source": [
    "bTa_kid.plot_overview()"
   ]
  },
  {
   "attachments": {},
   "cell_type": "markdown",
   "metadata": {},
   "source": [
    "Or you can plot one or some of the individual plots. Each plot of the overview plot has its own attribute in the MKID object. Check the MKID object in classes.py"
   ]
  },
  {
   "cell_type": "code",
   "execution_count": null,
   "metadata": {},
   "outputs": [],
   "source": [
    "fig, ax = plt.subplot_mosaic('aab', figsize=(12, 3), constrained_layout=True)\n",
    "bTa_kid.plot_timestream(ax=ax['a'], type='light')\n",
    "bTa_kid.plot_hist(ax=ax['b'], type='smoothed', binsize=0.02)"
   ]
  },
  {
   "cell_type": "code",
   "execution_count": null,
   "metadata": {},
   "outputs": [],
   "source": []
  }
 ],
 "metadata": {
  "kernelspec": {
   "display_name": ".venv",
   "language": "python",
   "name": "python3"
  },
  "language_info": {
   "codemirror_mode": {
    "name": "ipython",
    "version": 3
   },
   "file_extension": ".py",
   "mimetype": "text/x-python",
   "name": "python",
   "nbconvert_exporter": "python",
   "pygments_lexer": "ipython3",
   "version": "3.9.13"
  },
  "orig_nbformat": 4,
  "vscode": {
   "interpreter": {
    "hash": "e15e85cfa26b8ef4e72c716f65d9c7046cd0ff08847cae9fbb158c6a2f8d5acb"
   }
  }
 },
 "nbformat": 4,
 "nbformat_minor": 2
}
